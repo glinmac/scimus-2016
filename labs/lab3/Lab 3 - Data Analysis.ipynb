{
 "cells": [
  {
   "cell_type": "markdown",
   "metadata": {},
   "source": [
    "# Lab 3 - Data Analysis\n",
    "\n",
    "----\n",
    "**Group**:\n",
    " * Student Name\n",
    " * Student Name\n",
    "----"
   ]
  },
  {
   "cell_type": "code",
   "execution_count": null,
   "metadata": {
    "code_folding": [],
    "collapsed": false
   },
   "outputs": [],
   "source": [
    "# dependencies\n",
    "import sys\n",
    "import json\n",
    "import pandas\n",
    "from pandas.io.json import json_normalize\n",
    "import requests\n",
    "import matplotlib.pyplot as plt\n",
    "%matplotlib inline"
   ]
  },
  {
   "cell_type": "markdown",
   "metadata": {},
   "source": [
    "Let's now do some analysis on Spotify data with Pandas.\n"
   ]
  },
  {
   "cell_type": "markdown",
   "metadata": {},
   "source": [
    "## Exercice 1 - Collect data\n",
    "\n",
    "Query the Spotify API and retrieve the list of all tracks available in the France market for *The Beatles* (`568ZhdwyaiCyOGJRtNYhWf`)\n",
    "\n",
    "You will not store all properties for the tracks but only the following for each track:\n",
    " * release date\n",
    " * album type\n",
    " * popularity of the track\n",
    " * popularity of the associated album\n",
    " * album id \n",
    " * duration of the track\n",
    " * explicit flag\n",
    " * smallest url of the image\n",
    " \n",
    "*Note:*\n",
    "* When the property is not available at the track level, use the one presents at the album level\n",
    "* The track structure should follow something like:\n",
    "```\n",
    " {\n",
    "     \"album_id\" : ...,\n",
    "     \"album_popularity\": ...,\n",
    "     \"album_type\": ...,\n",
    "     \"duration_ms\": ...,\n",
    "     \"explicit\": ...,\n",
    "     \"id\": ...,\n",
    "     \"name\": ...,\n",
    "     \"popularity\": ...,\n",
    "     \"type\": ...,\n",
    "     \"relase_date\": ...\n",
    " }\n",
    "```"
   ]
  },
  {
   "cell_type": "code",
   "execution_count": null,
   "metadata": {
    "collapsed": true
   },
   "outputs": [],
   "source": [
    "# Your code / answers here"
   ]
  },
  {
   "cell_type": "markdown",
   "metadata": {},
   "source": [
    "## Exercice 2 - Analysis with Pandas\n",
    "\n",
    "By using the `pandas` library and a DataFrame representation of the tracks, answer the following questions:\n",
    "\n",
    "* Display the number of tracks by release date (day)\n",
    "* Display the number of tracks by year\n",
    "* Display the name and year of release of the 10 most popular tracks\n",
    "* Count and display the repartition of tracks by album types\n",
    "* Plot the average duration of track in minutes by year"
   ]
  },
  {
   "cell_type": "code",
   "execution_count": null,
   "metadata": {
    "collapsed": true
   },
   "outputs": [],
   "source": [
    "# Your code / answers here"
   ]
  },
  {
   "cell_type": "markdown",
   "metadata": {
    "collapsed": true
   },
   "source": [
    "## Exercice 3 - Generate a Playlist\n",
    "\n",
    "Now, we'll be using the data available in Spotify to derive some new data. In this exercice you'll be creating a playlist of 10 tracks.\n",
    "\n",
    "For this:\n",
    "* Pick an artist or your liking\n",
    "* Use the Spotify Search API to identify its Spotify Artist ID\n",
    "* Using spotify resources and the API documentation imagine a method to generate a recommendation playlist, some possible examples to give you ideas:\n",
    " * top tracks of related artists\n",
    " * search popularity\n",
    " * recommendations endpoint (if you have a spotify account)\n",
    " * search by genre/market/release dates\n",
    " * search existing playlists\n",
    "* Describe this method and implement it \n",
    "* If you had a spotify account which API could you use?\n",
    "* Display the tracks, an image if possible, and a link to the audio preview for each track of the generated playlist\n",
    "* If needed, redesign your code/functions so that it can be applied to any artist and apply it to another artist."
   ]
  },
  {
   "cell_type": "code",
   "execution_count": null,
   "metadata": {
    "collapsed": true
   },
   "outputs": [],
   "source": [
    "# Your code / answers here"
   ]
  }
 ],
 "metadata": {
  "kernelspec": {
   "display_name": "Python 2",
   "language": "python",
   "name": "python2"
  },
  "language_info": {
   "codemirror_mode": {
    "name": "ipython",
    "version": 2
   },
   "file_extension": ".py",
   "mimetype": "text/x-python",
   "name": "python",
   "nbconvert_exporter": "python",
   "pygments_lexer": "ipython2",
   "version": "2.7.12"
  },
  "nav_menu": {},
  "toc": {
   "navigate_menu": true,
   "number_sections": true,
   "sideBar": true,
   "threshold": 6,
   "toc_cell": false,
   "toc_section_display": "block",
   "toc_window_display": true
  }
 },
 "nbformat": 4,
 "nbformat_minor": 0
}
