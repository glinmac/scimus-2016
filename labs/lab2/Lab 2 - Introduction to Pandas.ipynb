{
 "cells": [
  {
   "cell_type": "markdown",
   "metadata": {},
   "source": [
    "# Lab 2 - Introduction to Pandas"
   ]
  },
  {
   "cell_type": "markdown",
   "metadata": {},
   "source": [
    "---\n",
    "**Group**: \n",
    " * Student Name 1\n",
    " * Student Name 2\n",
    "---"
   ]
  },
  {
   "cell_type": "code",
   "execution_count": null,
   "metadata": {
    "code_folding": [],
    "collapsed": false
   },
   "outputs": [],
   "source": [
    "# dependencies - run this first\n",
    "import sys\n",
    "from datetime import datetime, date\n",
    "import json\n",
    "from IPython.core.display import HTML, display\n",
    "import matplotlib.pyplot as plt\n",
    "%matplotlib inline"
   ]
  },
  {
   "cell_type": "markdown",
   "metadata": {},
   "source": [
    "## Introduction\n",
    "[Pandas](http://pandas.pydata.org/), [NumPy](http://www.numpy.org/) and [SciPy](https://www.scipy.org/) are popular Python libraries for data analysis.\n",
    "\n",
    "This notebook will give you a very quick overview of some of its capabilities.\n",
    "\n",
    "For more details:\n",
    "* [A 10min quickstart](http://pandas.pydata.org/pandas-docs/stable/10min.html)\n",
    "* [Pandas documentation](http://pandas.pydata.org/pandas-docs/version/0.18.0/)\n",
    "\n",
    "As for the `requests` module, `pandas` has to be imported in the Python namespace"
   ]
  },
  {
   "cell_type": "code",
   "execution_count": null,
   "metadata": {
    "collapsed": true
   },
   "outputs": [],
   "source": [
    "import pandas"
   ]
  },
  {
   "cell_type": "markdown",
   "metadata": {},
   "source": [
    "Let's create a dummy data set to explore some of the functionalities:"
   ]
  },
  {
   "cell_type": "code",
   "execution_count": null,
   "metadata": {
    "collapsed": true
   },
   "outputs": [],
   "source": [
    "tracks = [\n",
    "    {'name': 'track1', 'popularity': 10, 'genre': 'rock', 'release_date': '2014-01-01', 'custom': ''},\n",
    "    {'name': 'track2', 'popularity': 84, 'genre': 'punk', 'release_date': '2014-01-01', 'custom': ''},\n",
    "    {'name': 'track3', 'popularity': 65, 'genre': 'reggae', 'release_date': '2014-02-01', 'custom': ''},\n",
    "    {'name': 'track4', 'popularity': 62, 'genre': 'punk', 'release_date': '2014-01-01', 'custom': ''},\n",
    "    {'name': 'track5', 'popularity': 5, 'genre': 'rock', 'release_date': '2014-01-01', 'custom': ''},\n",
    "    {'name': 'track6', 'popularity': 13, 'genre': 'reggae', 'release_date': '2014-01-01', 'custom': ''},\n",
    "    {'name': 'track7', 'popularity': 56, 'genre': 'rock', 'release_date': '2012-01-01', 'custom': ''},\n",
    "    {'name': 'track8', 'popularity': 53, 'genre': 'punk', 'release_date': '2014-12-01', 'custom': ''},\n",
    "    {'name': 'track9', 'popularity': 76, 'genre': 'rock', 'release_date': '2014-01-01', 'custom': ''},\n",
    "    {'name': 'track10', 'popularity': 72, 'genre': 'rock', 'release_date': '2014-01-01', 'custom': ''},\n",
    "    {'name': 'track11', 'popularity': 75, 'genre': 'rock', 'release_date': '2014-01-01', 'custom': ''},\n",
    "    {'name': 'track12', 'popularity': 76, 'genre': 'rock', 'release_date': '1967-01-01', 'custom': ''},\n",
    "    {'name': 'track13', 'popularity': 2, 'genre': 'rock', 'release_date': '2014-01-01', 'custom': ''},\n",
    "    {'name': 'track14', 'popularity': 15, 'genre': 'rock', 'release_date': '2014-01-01', 'custom': ''},    \n",
    "]"
   ]
  },
  {
   "cell_type": "markdown",
   "metadata": {},
   "source": [
    "### Creating a DataFrame\n",
    "A [*DataFrame*](http://pandas.pydata.org/pandas-docs/stable/generated/pandas.DataFrame.html) is one of the main data structure in Pandas. \n",
    "\n",
    "It is a 2 dimensional data structure with columns of potentially different types with indexes axes (rows and columns). \n",
    "\n",
    "Among the various possibilities, a Pandas's DataFrame can be created easily from a list of objects using `json_normalize`"
   ]
  },
  {
   "cell_type": "code",
   "execution_count": null,
   "metadata": {
    "collapsed": false
   },
   "outputs": [],
   "source": [
    "from pandas.io.json import json_normalize\n",
    "df = json_normalize(tracks)"
   ]
  },
  {
   "cell_type": "markdown",
   "metadata": {},
   "source": [
    "The `head()` method can be used on a DataFrame object to return the `n` first rows (default is 5)"
   ]
  },
  {
   "cell_type": "code",
   "execution_count": null,
   "metadata": {
    "collapsed": false
   },
   "outputs": [],
   "source": [
    "df.head(2) "
   ]
  },
  {
   "cell_type": "markdown",
   "metadata": {},
   "source": [
    "The types associated with the columns are:"
   ]
  },
  {
   "cell_type": "code",
   "execution_count": null,
   "metadata": {
    "collapsed": false
   },
   "outputs": [],
   "source": [
    "df.dtypes"
   ]
  },
  {
   "cell_type": "markdown",
   "metadata": {},
   "source": [
    "As you can see, this DataFrame is made of 5 columns with different types (string & integer). In this example, the date is encoded as a string but we could have used the `datetime` or `date` types from the `datetime` module.\n",
    "\n",
    "We can perform some operations on this DataFrame object:\n",
    " * get the number of rows/records:"
   ]
  },
  {
   "cell_type": "code",
   "execution_count": null,
   "metadata": {
    "collapsed": false
   },
   "outputs": [],
   "source": [
    "# len can be used on a data frame to get the number of rows\n",
    "print 'Num records:', len(df)\n",
    "\n",
    "# the shape properties contains (number of rows, number of columns)\n",
    "print 'DataFrame shape:', df.shape"
   ]
  },
  {
   "cell_type": "markdown",
   "metadata": {},
   "source": [
    "* select some specific columns"
   ]
  },
  {
   "cell_type": "code",
   "execution_count": null,
   "metadata": {
    "collapsed": false
   },
   "outputs": [],
   "source": [
    "# either using a python property\n",
    "df.name"
   ]
  },
  {
   "cell_type": "code",
   "execution_count": null,
   "metadata": {
    "collapsed": false
   },
   "outputs": [],
   "source": [
    "# or by its name\n",
    "df['genre']"
   ]
  },
  {
   "cell_type": "markdown",
   "metadata": {},
   "source": [
    "* select some specific rows"
   ]
  },
  {
   "cell_type": "code",
   "execution_count": null,
   "metadata": {
    "collapsed": false
   },
   "outputs": [],
   "source": [
    "df[3:5]"
   ]
  },
  {
   "cell_type": "markdown",
   "metadata": {},
   "source": [
    "On numerical fields, Pandas can compute some basic statistics on the DataFrame with the `describe` function"
   ]
  },
  {
   "cell_type": "code",
   "execution_count": null,
   "metadata": {
    "collapsed": false
   },
   "outputs": [],
   "source": [
    "df.describe()"
   ]
  },
  {
   "cell_type": "markdown",
   "metadata": {},
   "source": [
    "For more details on the DataFrame object you can use the `help` function and also consult http://pandas.pydata.org/pandas-docs/stable/generated/pandas.DataFrame.html"
   ]
  },
  {
   "cell_type": "code",
   "execution_count": null,
   "metadata": {
    "collapsed": false
   },
   "outputs": [],
   "source": [
    "help(df)"
   ]
  },
  {
   "cell_type": "markdown",
   "metadata": {},
   "source": [
    "### Grouping\n",
    "Let's count the number of tracks grouped by genre."
   ]
  },
  {
   "cell_type": "code",
   "execution_count": null,
   "metadata": {
    "collapsed": false
   },
   "outputs": [],
   "source": [
    "df.groupby('genre')"
   ]
  },
  {
   "cell_type": "markdown",
   "metadata": {},
   "source": [
    "The `DataFrameGroupBy` is creating the grouping and can be used in several ways:\n",
    "* iterating through the groups and there respective DataFrame:"
   ]
  },
  {
   "cell_type": "code",
   "execution_count": null,
   "metadata": {
    "collapsed": false
   },
   "outputs": [],
   "source": [
    "for key, group in df.groupby('genre'):\n",
    "    print 'Genre: %s' % key\n",
    "    print 'DataFrame:'\n",
    "    display(group)"
   ]
  },
  {
   "cell_type": "markdown",
   "metadata": {},
   "source": [
    "* get the groups and the index of the associated records:"
   ]
  },
  {
   "cell_type": "code",
   "execution_count": null,
   "metadata": {
    "collapsed": false
   },
   "outputs": [],
   "source": [
    "print df.groupby('genre').groups"
   ]
  },
  {
   "cell_type": "markdown",
   "metadata": {},
   "source": [
    "* get the size of each groups:"
   ]
  },
  {
   "cell_type": "code",
   "execution_count": null,
   "metadata": {
    "collapsed": false
   },
   "outputs": [],
   "source": [
    "df.groupby('genre').size()"
   ]
  },
  {
   "cell_type": "markdown",
   "metadata": {},
   "source": [
    "* apply some aggregation functions for each group:"
   ]
  },
  {
   "cell_type": "code",
   "execution_count": null,
   "metadata": {
    "collapsed": false
   },
   "outputs": [],
   "source": [
    "# count of records\n",
    "display(df.groupby('genre').count())\n",
    "\n",
    "# avg for numeric fields\n",
    "display(df.groupby('genre').mean())"
   ]
  },
  {
   "cell_type": "markdown",
   "metadata": {},
   "source": [
    "* We can also display this now using the `.plot()` function:"
   ]
  },
  {
   "cell_type": "code",
   "execution_count": null,
   "metadata": {
    "collapsed": false
   },
   "outputs": [],
   "source": [
    "df.groupby('genre').size().plot(kind='bar', title='Repartition of tracks by genre', figsize=(5,5))"
   ]
  },
  {
   "cell_type": "markdown",
   "metadata": {},
   "source": [
    "Grouping may be performed on several columns and an aggregation function being used.\n",
    "\n",
    "The following counts the number of tracks grouped by release date and genre"
   ]
  },
  {
   "cell_type": "code",
   "execution_count": null,
   "metadata": {
    "collapsed": false
   },
   "outputs": [],
   "source": [
    "df.groupby(['release_date', 'genre']).count()"
   ]
  },
  {
   "cell_type": "markdown",
   "metadata": {},
   "source": [
    "and this one computes the average popularity:"
   ]
  },
  {
   "cell_type": "code",
   "execution_count": null,
   "metadata": {
    "collapsed": false
   },
   "outputs": [],
   "source": [
    "df.groupby(['release_date', 'genre']).mean()"
   ]
  },
  {
   "cell_type": "markdown",
   "metadata": {},
   "source": [
    "Sometime you may want to pivot the ouptut to get a columnar representation of some groups"
   ]
  },
  {
   "cell_type": "code",
   "execution_count": null,
   "metadata": {
    "collapsed": false
   },
   "outputs": [],
   "source": [
    "df.groupby(['release_date', 'genre']).mean().unstack('genre')"
   ]
  },
  {
   "cell_type": "markdown",
   "metadata": {},
   "source": [
    "We can replace undefined value with a default value with the `fillna` method:"
   ]
  },
  {
   "cell_type": "code",
   "execution_count": null,
   "metadata": {
    "collapsed": false
   },
   "outputs": [],
   "source": [
    "df.groupby(['release_date', 'genre']).mean().unstack('genre').fillna(0)"
   ]
  },
  {
   "cell_type": "markdown",
   "metadata": {},
   "source": [
    "And now, we can use this dataframe to plot the popularity by year and type:"
   ]
  },
  {
   "cell_type": "code",
   "execution_count": null,
   "metadata": {
    "collapsed": false
   },
   "outputs": [],
   "source": [
    "ax = df.groupby(['release_date', 'genre']).mean().unstack('genre').fillna(0).plot(kind='bar', stacked=True)\n",
    "ax.set_xlabel('Release date')\n",
    "ax.set_ylabel('Popularity')"
   ]
  },
  {
   "cell_type": "markdown",
   "metadata": {},
   "source": [
    "### Filtering\n",
    "Filters can easily be applied on a DataFrame."
   ]
  },
  {
   "cell_type": "code",
   "execution_count": null,
   "metadata": {
    "collapsed": false
   },
   "outputs": [],
   "source": [
    "df.popularity > 60"
   ]
  },
  {
   "cell_type": "code",
   "execution_count": null,
   "metadata": {
    "collapsed": false
   },
   "outputs": [],
   "source": [
    "df.genre == 'punk'"
   ]
  },
  {
   "cell_type": "markdown",
   "metadata": {},
   "source": [
    "For instance, to filter all records with a popularity greater than 60 and then group them by genre:"
   ]
  },
  {
   "cell_type": "code",
   "execution_count": null,
   "metadata": {
    "collapsed": false
   },
   "outputs": [],
   "source": [
    "ax = df[df.popularity > 60]\\\n",
    "    .groupby('genre').size()\\\n",
    "    .plot(kind='pie', \\\n",
    "          title='Repartition of genre for tracks with popularity > 60', \\\n",
    "          figsize=(5,5))"
   ]
  },
  {
   "cell_type": "markdown",
   "metadata": {},
   "source": [
    "We could also plot the distribution of popularity for rock tracks"
   ]
  },
  {
   "cell_type": "code",
   "execution_count": null,
   "metadata": {
    "collapsed": false
   },
   "outputs": [],
   "source": [
    "ax = df[df.genre == 'rock']['popularity'].hist(bins=10, figsize=(10, 5))\n",
    "ax.set_xlabel('Popularity')\n",
    "ax.set_ylabel('Count of tracks')"
   ]
  },
  {
   "cell_type": "markdown",
   "metadata": {},
   "source": [
    "### Deriving new data\n",
    "\n",
    "Functions can be applied to columns to generate new values or columns.\n",
    "\n",
    "For instance, we may want to group the tracks by year of release and not the day of release. This could be done for instance by:\n",
    "* creating a new `year` feature\n",
    "* applying the group on the feature"
   ]
  },
  {
   "cell_type": "code",
   "execution_count": null,
   "metadata": {
    "collapsed": false,
    "scrolled": true
   },
   "outputs": [],
   "source": [
    "df['release_date'].apply(lambda x: x.split('-')[0])"
   ]
  },
  {
   "cell_type": "markdown",
   "metadata": {},
   "source": [
    "We can extend our DataFrame with this new column:"
   ]
  },
  {
   "cell_type": "code",
   "execution_count": null,
   "metadata": {
    "collapsed": true
   },
   "outputs": [],
   "source": [
    "df['year'] = df['release_date'].apply(lambda x: x.split('-')[0])"
   ]
  },
  {
   "cell_type": "code",
   "execution_count": null,
   "metadata": {
    "collapsed": false,
    "scrolled": true
   },
   "outputs": [],
   "source": [
    "df.head(2)"
   ]
  },
  {
   "cell_type": "markdown",
   "metadata": {},
   "source": [
    "And now we can display the repartition of genre by year of release"
   ]
  },
  {
   "cell_type": "code",
   "execution_count": null,
   "metadata": {
    "collapsed": false
   },
   "outputs": [],
   "source": [
    "ax = df.groupby(['year', 'genre'])['name'].count()\\\n",
    "    .unstack('genre').fillna(0)\\\n",
    "    .plot(kind='bar', stacked=True)\n",
    "ax.set_xlabel('Year')\n",
    "ax.set_ylabel('Number of tracks')"
   ]
  },
  {
   "cell_type": "markdown",
   "metadata": {},
   "source": [
    "You can also drop columns for the DataFrame to clean up the data"
   ]
  },
  {
   "cell_type": "code",
   "execution_count": null,
   "metadata": {
    "collapsed": false,
    "scrolled": true
   },
   "outputs": [],
   "source": [
    "df.drop('custom', axis=1, inplace=True)\n",
    "df.head(2)"
   ]
  },
  {
   "cell_type": "markdown",
   "metadata": {},
   "source": [
    "# Exercice - User profiles analysis\n",
    "\n",
    "Using the [LastFm 360K dataset](http://www.dtic.upf.edu/~ocelma/MusicRecommendationDataset/lastfm-360K.html), you'll be doing some analysis of a subset of LastFM anonymyzed users profiles.\n",
    "\n",
    "This data sets containing for each user:\n",
    "* id (SHA1)\n",
    "* gender\n",
    "* age\n",
    "* country\n",
    "* signup date\n",
    "\n",
    "\n",
    "    user-mboxsha1 \\t gender (m|f|empty) \\t age (int|empty) \\t country (str|empty) \\t signup (date|empty)\n",
    "\n",
    "\n",
    "You can download the file at the following address:\n",
    "\n",
    "    https://s3-eu-west-1.amazonaws.com/scimus-data/lab2/usersha1-profile.tsv.gz\n",
    "    \n",
    "Put it somewhere in your Home directory, eg:\n",
    "    \n",
    "    mkdir scimus-data\n",
    "    curl -O https://s3-eu-west-1.amazonaws.com/scimus-data/lab2/usersha1-profile.tsv.gz\n",
    "    gunzip usersha1-profile.tsv.gz\n",
    "\n",
    "By analysing the data set with Pandas, answer the following questions:\n",
    "\n",
    "* Load the data set into a DataFrame. Some hints:\n",
    " * use the `read_csv` function from the `pandas` package\n",
    " * the fields are separated by a tabular character (`\\t`)\n",
    " * there is no header in the file\n",
    "* Do some basic analysis of the data sets\n",
    " * What is the number of records?\n",
    " * What is the number of columns?\n",
    "* Create a new column by transforming the `signup` string into a proper python `date` object. Some hints:\n",
    " * use the `strptime` method of `datetime` (see the Python documentation for the string [format](https://docs.python.org/3.5/library/datetime.html#strftime-strptime-behavior))\n",
    " * `datetime` python objects can be transformed to `date` with the `.date()` method\n",
    " \n",
    "* Display the total number of signups:\n",
    " * by year\n",
    " * by month\n",
    " * by day of the week\n",
    "\n",
    "* Study the repartition of signups (total and monthly) by gender, country and age:\n",
    " * Bucket age by bucket of 10 years\n",
    " * Display the monthly signups for the 10 top countries by count of signups\n",
    "* Study the age data, what can you observe in the source data?"
   ]
  },
  {
   "cell_type": "code",
   "execution_count": null,
   "metadata": {
    "collapsed": true
   },
   "outputs": [],
   "source": [
    "# Your code / answers here"
   ]
  }
 ],
 "metadata": {
  "kernelspec": {
   "display_name": "Python 2",
   "language": "python",
   "name": "python2"
  },
  "language_info": {
   "codemirror_mode": {
    "name": "ipython",
    "version": 2
   },
   "file_extension": ".py",
   "mimetype": "text/x-python",
   "name": "python",
   "nbconvert_exporter": "python",
   "pygments_lexer": "ipython2",
   "version": "2.7.12"
  },
  "nav_menu": {},
  "toc": {
   "navigate_menu": true,
   "number_sections": true,
   "sideBar": true,
   "threshold": 6,
   "toc_cell": false,
   "toc_section_display": "block",
   "toc_window_display": true
  },
  "toc_position": {
   "height": "616px",
   "left": "0px",
   "right": "1123px",
   "top": "106px",
   "width": "157px"
  }
 },
 "nbformat": 4,
 "nbformat_minor": 0
}
